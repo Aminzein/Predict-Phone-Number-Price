{
 "cells": [
  {
   "cell_type": "markdown",
   "id": "2776b802-2dc5-4b00-be55-4cf71d50f330",
   "metadata": {},
   "source": [
    "## 1. import necessary libraries"
   ]
  },
  {
   "cell_type": "code",
   "execution_count": 35,
   "id": "e4d5155e-4723-4673-975b-c17faf79eb7d",
   "metadata": {},
   "outputs": [],
   "source": [
    "import pandas as pd\n",
    "import numpy as np\n",
    "import matplotlib.pyplot as plt"
   ]
  },
  {
   "cell_type": "markdown",
   "id": "91c26a89-b7ea-4cba-ad1a-224e3b7e75e4",
   "metadata": {},
   "source": [
    "## 2. Read Dataset using `pd.read_csv`"
   ]
  },
  {
   "cell_type": "code",
   "execution_count": 36,
   "id": "b8283a48-0cce-4415-82e8-e8481845fafe",
   "metadata": {},
   "outputs": [],
   "source": [
    "df = pd.read_csv(\"../../DataSet/rond.ir/rond.ir_full.csv\")"
   ]
  },
  {
   "cell_type": "markdown",
   "id": "ab0daf0c-c6c1-45a2-b36e-d88a998a3c79",
   "metadata": {},
   "source": [
    "## 3. Review the Data"
   ]
  },
  {
   "cell_type": "markdown",
   "id": "0a24006d-94ae-40d2-956b-d9c9f8dcdf9d",
   "metadata": {},
   "source": [
    "### 3.1 Display first 5 rows of Dataset"
   ]
  },
  {
   "cell_type": "code",
   "execution_count": 37,
   "id": "59e8e126-9837-4b5f-b4a7-46e26778eb7c",
   "metadata": {},
   "outputs": [
    {
     "data": {
      "text/html": [
       "<div>\n",
       "<style scoped>\n",
       "    .dataframe tbody tr th:only-of-type {\n",
       "        vertical-align: middle;\n",
       "    }\n",
       "\n",
       "    .dataframe tbody tr th {\n",
       "        vertical-align: top;\n",
       "    }\n",
       "\n",
       "    .dataframe thead th {\n",
       "        text-align: right;\n",
       "    }\n",
       "</style>\n",
       "<table border=\"1\" class=\"dataframe\">\n",
       "  <thead>\n",
       "    <tr style=\"text-align: right;\">\n",
       "      <th></th>\n",
       "      <th>phone_number</th>\n",
       "      <th>price</th>\n",
       "      <th>status</th>\n",
       "      <th>city</th>\n",
       "      <th>time</th>\n",
       "    </tr>\n",
       "  </thead>\n",
       "  <tbody>\n",
       "    <tr>\n",
       "      <th>0</th>\n",
       "      <td>0912 594 32 72</td>\n",
       "      <td>16,600,000</td>\n",
       "      <td>صفر</td>\n",
       "      <td>تهران</td>\n",
       "      <td>23 ثانیه</td>\n",
       "    </tr>\n",
       "    <tr>\n",
       "      <th>1</th>\n",
       "      <td>0912 36 57 259</td>\n",
       "      <td>17,100,000</td>\n",
       "      <td>صفر</td>\n",
       "      <td>تهران</td>\n",
       "      <td>23 ثانیه</td>\n",
       "    </tr>\n",
       "    <tr>\n",
       "      <th>2</th>\n",
       "      <td>0912 796 21 54</td>\n",
       "      <td>9,700,000</td>\n",
       "      <td>صفر</td>\n",
       "      <td>تهران</td>\n",
       "      <td>23 ثانیه</td>\n",
       "    </tr>\n",
       "    <tr>\n",
       "      <th>3</th>\n",
       "      <td>0912 051 91 73</td>\n",
       "      <td>7,500,000</td>\n",
       "      <td>صفر</td>\n",
       "      <td>تهران</td>\n",
       "      <td>23 ثانیه</td>\n",
       "    </tr>\n",
       "    <tr>\n",
       "      <th>4</th>\n",
       "      <td>0912 350 52 63</td>\n",
       "      <td>25,000,000</td>\n",
       "      <td>صفر</td>\n",
       "      <td>تهران</td>\n",
       "      <td>23 ثانیه</td>\n",
       "    </tr>\n",
       "  </tbody>\n",
       "</table>\n",
       "</div>"
      ],
      "text/plain": [
       "     phone_number       price status   city      time\n",
       "0  0912 594 32 72  16,600,000    صفر  تهران  23 ثانیه\n",
       "1  0912 36 57 259  17,100,000    صفر  تهران  23 ثانیه\n",
       "2  0912 796 21 54   9,700,000    صفر  تهران  23 ثانیه\n",
       "3  0912 051 91 73   7,500,000    صفر  تهران  23 ثانیه\n",
       "4  0912 350 52 63  25,000,000    صفر  تهران  23 ثانیه"
      ]
     },
     "execution_count": 37,
     "metadata": {},
     "output_type": "execute_result"
    }
   ],
   "source": [
    "df.head()"
   ]
  },
  {
   "cell_type": "markdown",
   "id": "ff3ed575-66a4-4428-ad53-5b09568fd3ee",
   "metadata": {},
   "source": [
    "### 3.2 Check the number of samples and features"
   ]
  },
  {
   "cell_type": "code",
   "execution_count": 38,
   "id": "fad124bb-d0be-4b5d-9acc-8a01bbbd93b5",
   "metadata": {},
   "outputs": [
    {
     "data": {
      "text/plain": [
       "(630040, 5)"
      ]
     },
     "execution_count": 38,
     "metadata": {},
     "output_type": "execute_result"
    }
   ],
   "source": [
    "df.shape"
   ]
  },
  {
   "cell_type": "markdown",
   "id": "55260a6a-4d79-455b-b8db-b9166f125468",
   "metadata": {},
   "source": [
    "### 3.3 Check Data types and memory usage"
   ]
  },
  {
   "cell_type": "code",
   "execution_count": 39,
   "id": "7cfcd125-3253-40af-acb6-395a7586ae67",
   "metadata": {},
   "outputs": [
    {
     "name": "stdout",
     "output_type": "stream",
     "text": [
      "<class 'pandas.core.frame.DataFrame'>\n",
      "RangeIndex: 630040 entries, 0 to 630039\n",
      "Data columns (total 5 columns):\n",
      " #   Column        Non-Null Count   Dtype \n",
      "---  ------        --------------   ----- \n",
      " 0   phone_number  630040 non-null  object\n",
      " 1   price         630040 non-null  object\n",
      " 2   status        630040 non-null  object\n",
      " 3   city          630040 non-null  object\n",
      " 4   time          623251 non-null  object\n",
      "dtypes: object(5)\n",
      "memory usage: 24.0+ MB\n"
     ]
    }
   ],
   "source": [
    "df.info()"
   ]
  },
  {
   "cell_type": "markdown",
   "id": "dfaa09ec-7308-4a6f-90e4-82eb428b0113",
   "metadata": {},
   "source": [
    "### 3.4 Drop rows with Null values"
   ]
  },
  {
   "cell_type": "code",
   "execution_count": 40,
   "id": "410c411c-424a-4889-82ff-c56e2fa6a6a8",
   "metadata": {},
   "outputs": [
    {
     "data": {
      "text/plain": [
       "phone_number       0\n",
       "price              0\n",
       "status             0\n",
       "city               0\n",
       "time            6789\n",
       "dtype: int64"
      ]
     },
     "execution_count": 40,
     "metadata": {},
     "output_type": "execute_result"
    }
   ],
   "source": [
    "df.isnull().sum()"
   ]
  },
  {
   "cell_type": "code",
   "execution_count": 41,
   "id": "e6a70874",
   "metadata": {},
   "outputs": [
    {
     "name": "stdout",
     "output_type": "stream",
     "text": [
      "Column phone_number has 0.0% missing data.\n",
      "Column price has 0.0% missing data.\n",
      "Column status has 0.0% missing data.\n",
      "Column city has 0.0% missing data.\n",
      "Column time has 1.0775506317059234% missing data.\n"
     ]
    }
   ],
   "source": [
    "null_counts = df.isnull().sum()\n",
    "null_percent = (null_counts / df.shape[0]) * 100\n",
    "for index , value in null_percent.items():\n",
    "    print(f'Column {index} has {value}% missing data.')"
   ]
  },
  {
   "cell_type": "code",
   "execution_count": 42,
   "id": "3c7a44e9-305f-4341-9611-ffcc0209b8a6",
   "metadata": {},
   "outputs": [],
   "source": [
    "df.dropna(inplace=True)"
   ]
  },
  {
   "cell_type": "code",
   "execution_count": 43,
   "id": "a41bfd19-4cb9-45c0-a102-eb978dc879c2",
   "metadata": {},
   "outputs": [
    {
     "data": {
      "text/plain": [
       "(623251, 5)"
      ]
     },
     "execution_count": 43,
     "metadata": {},
     "output_type": "execute_result"
    }
   ],
   "source": [
    "df.shape"
   ]
  },
  {
   "cell_type": "markdown",
   "id": "6457a80e-83ca-4cc0-ac19-67650e8e3a46",
   "metadata": {},
   "source": [
    "### 3.5 Drop duplicated rows"
   ]
  },
  {
   "cell_type": "code",
   "execution_count": 44,
   "id": "54c6b899-cfa8-44aa-afc2-ed757694ea48",
   "metadata": {},
   "outputs": [
    {
     "data": {
      "text/plain": [
       "49998"
      ]
     },
     "execution_count": 44,
     "metadata": {},
     "output_type": "execute_result"
    }
   ],
   "source": [
    "df.duplicated().sum()"
   ]
  },
  {
   "cell_type": "code",
   "execution_count": 45,
   "id": "6c201ed1-bf05-44b0-888e-3b0b1ec3aec6",
   "metadata": {},
   "outputs": [],
   "source": [
    "df.drop_duplicates(inplace=True)"
   ]
  },
  {
   "cell_type": "code",
   "execution_count": 46,
   "id": "cb05291e-25ba-4919-8bae-f0c80ff4a04b",
   "metadata": {},
   "outputs": [
    {
     "data": {
      "text/plain": [
       "(573253, 5)"
      ]
     },
     "execution_count": 46,
     "metadata": {},
     "output_type": "execute_result"
    }
   ],
   "source": [
    "df.shape"
   ]
  },
  {
   "cell_type": "markdown",
   "id": "ab27a360-0d76-40b6-8d19-6b0ffa894504",
   "metadata": {},
   "source": [
    "## 4. Pre Process Dataset"
   ]
  },
  {
   "cell_type": "markdown",
   "id": "a3ae080e-b4a0-4075-8b01-28dccacb57ed",
   "metadata": {},
   "source": [
    "### 4.1 `price` column"
   ]
  },
  {
   "cell_type": "code",
   "execution_count": 47,
   "id": "96906d9b-bde0-4f47-a4e4-710beae03ee6",
   "metadata": {},
   "outputs": [],
   "source": [
    "def process_price(price):\n",
    "    price = price.replace(',' , '')\n",
    "    if price.isdigit():\n",
    "        return float(price)\n",
    "    return np.nan"
   ]
  },
  {
   "cell_type": "code",
   "execution_count": 48,
   "id": "86774579-08ef-4b1b-bb5c-5460497f851a",
   "metadata": {},
   "outputs": [],
   "source": [
    "df.price = df.price.apply(process_price)"
   ]
  },
  {
   "cell_type": "code",
   "execution_count": 49,
   "id": "dc43d1e6-e554-4a37-be56-9e0329f311be",
   "metadata": {},
   "outputs": [
    {
     "data": {
      "text/html": [
       "<div>\n",
       "<style scoped>\n",
       "    .dataframe tbody tr th:only-of-type {\n",
       "        vertical-align: middle;\n",
       "    }\n",
       "\n",
       "    .dataframe tbody tr th {\n",
       "        vertical-align: top;\n",
       "    }\n",
       "\n",
       "    .dataframe thead th {\n",
       "        text-align: right;\n",
       "    }\n",
       "</style>\n",
       "<table border=\"1\" class=\"dataframe\">\n",
       "  <thead>\n",
       "    <tr style=\"text-align: right;\">\n",
       "      <th></th>\n",
       "      <th>phone_number</th>\n",
       "      <th>price</th>\n",
       "      <th>status</th>\n",
       "      <th>city</th>\n",
       "      <th>time</th>\n",
       "    </tr>\n",
       "  </thead>\n",
       "  <tbody>\n",
       "    <tr>\n",
       "      <th>0</th>\n",
       "      <td>0912 594 32 72</td>\n",
       "      <td>16600000.0</td>\n",
       "      <td>صفر</td>\n",
       "      <td>تهران</td>\n",
       "      <td>23 ثانیه</td>\n",
       "    </tr>\n",
       "    <tr>\n",
       "      <th>1</th>\n",
       "      <td>0912 36 57 259</td>\n",
       "      <td>17100000.0</td>\n",
       "      <td>صفر</td>\n",
       "      <td>تهران</td>\n",
       "      <td>23 ثانیه</td>\n",
       "    </tr>\n",
       "    <tr>\n",
       "      <th>2</th>\n",
       "      <td>0912 796 21 54</td>\n",
       "      <td>9700000.0</td>\n",
       "      <td>صفر</td>\n",
       "      <td>تهران</td>\n",
       "      <td>23 ثانیه</td>\n",
       "    </tr>\n",
       "    <tr>\n",
       "      <th>3</th>\n",
       "      <td>0912 051 91 73</td>\n",
       "      <td>7500000.0</td>\n",
       "      <td>صفر</td>\n",
       "      <td>تهران</td>\n",
       "      <td>23 ثانیه</td>\n",
       "    </tr>\n",
       "    <tr>\n",
       "      <th>4</th>\n",
       "      <td>0912 350 52 63</td>\n",
       "      <td>25000000.0</td>\n",
       "      <td>صفر</td>\n",
       "      <td>تهران</td>\n",
       "      <td>23 ثانیه</td>\n",
       "    </tr>\n",
       "  </tbody>\n",
       "</table>\n",
       "</div>"
      ],
      "text/plain": [
       "     phone_number       price status   city      time\n",
       "0  0912 594 32 72  16600000.0    صفر  تهران  23 ثانیه\n",
       "1  0912 36 57 259  17100000.0    صفر  تهران  23 ثانیه\n",
       "2  0912 796 21 54   9700000.0    صفر  تهران  23 ثانیه\n",
       "3  0912 051 91 73   7500000.0    صفر  تهران  23 ثانیه\n",
       "4  0912 350 52 63  25000000.0    صفر  تهران  23 ثانیه"
      ]
     },
     "execution_count": 49,
     "metadata": {},
     "output_type": "execute_result"
    }
   ],
   "source": [
    "df.head()"
   ]
  },
  {
   "cell_type": "code",
   "execution_count": 50,
   "id": "8dee1610-60b2-4918-a01f-037977236bee",
   "metadata": {},
   "outputs": [
    {
     "data": {
      "text/plain": [
       "phone_number         0\n",
       "price           171855\n",
       "status               0\n",
       "city                 0\n",
       "time                 0\n",
       "dtype: int64"
      ]
     },
     "execution_count": 50,
     "metadata": {},
     "output_type": "execute_result"
    }
   ],
   "source": [
    "df.isnull().sum()"
   ]
  },
  {
   "cell_type": "markdown",
   "id": "b96937cd-b643-47d2-aa21-1fc23e2a01b5",
   "metadata": {},
   "source": [
    "### 30571 records did'nt have valid prices"
   ]
  },
  {
   "cell_type": "code",
   "execution_count": 51,
   "id": "ab86eaea-07d2-4471-85e8-98213de001b3",
   "metadata": {},
   "outputs": [],
   "source": [
    "df.dropna(inplace=True)"
   ]
  },
  {
   "cell_type": "code",
   "execution_count": 52,
   "id": "b4b14234-5e8a-4220-87d9-d171c7a33ea1",
   "metadata": {},
   "outputs": [
    {
     "data": {
      "text/plain": [
       "(401398, 5)"
      ]
     },
     "execution_count": 52,
     "metadata": {},
     "output_type": "execute_result"
    }
   ],
   "source": [
    "df.shape"
   ]
  },
  {
   "cell_type": "markdown",
   "id": "c0c989b9-d672-4374-87d9-b2ebe7085228",
   "metadata": {},
   "source": [
    "### 4.2 `status` column"
   ]
  },
  {
   "cell_type": "code",
   "execution_count": 53,
   "id": "3fc35728-2858-4d24-8fcf-91bfbee3708a",
   "metadata": {},
   "outputs": [
    {
     "data": {
      "text/plain": [
       "array(['صفر', 'در حد صفر', 'کارکرده'], dtype=object)"
      ]
     },
     "execution_count": 53,
     "metadata": {},
     "output_type": "execute_result"
    }
   ],
   "source": [
    "status_values = df.status.unique()\n",
    "status_values"
   ]
  },
  {
   "cell_type": "code",
   "execution_count": 54,
   "id": "0561616c-22d3-4be6-bd22-c2fc116852df",
   "metadata": {},
   "outputs": [],
   "source": [
    "#status_values[1] , status_values[2] = status_values[2] , status_values[1]"
   ]
  },
  {
   "cell_type": "code",
   "execution_count": 55,
   "id": "63fa7575-a196-4bb3-b59f-d0d75f85c89e",
   "metadata": {},
   "outputs": [
    {
     "data": {
      "text/plain": [
       "{'صفر': 0, 'در حد صفر': 1, 'کارکرده': 2}"
      ]
     },
     "execution_count": 55,
     "metadata": {},
     "output_type": "execute_result"
    }
   ],
   "source": [
    "status_map = {status:index for index , status in enumerate(status_values)}\n",
    "status_map"
   ]
  },
  {
   "cell_type": "code",
   "execution_count": 56,
   "id": "db245d1f-8a76-4388-bb3f-0f9ef8dcacde",
   "metadata": {},
   "outputs": [],
   "source": [
    "df.status = df.status.map(status_map)"
   ]
  },
  {
   "cell_type": "code",
   "execution_count": 57,
   "id": "30268213-90cd-4eff-a863-3e101381da66",
   "metadata": {},
   "outputs": [
    {
     "data": {
      "text/html": [
       "<div>\n",
       "<style scoped>\n",
       "    .dataframe tbody tr th:only-of-type {\n",
       "        vertical-align: middle;\n",
       "    }\n",
       "\n",
       "    .dataframe tbody tr th {\n",
       "        vertical-align: top;\n",
       "    }\n",
       "\n",
       "    .dataframe thead th {\n",
       "        text-align: right;\n",
       "    }\n",
       "</style>\n",
       "<table border=\"1\" class=\"dataframe\">\n",
       "  <thead>\n",
       "    <tr style=\"text-align: right;\">\n",
       "      <th></th>\n",
       "      <th>phone_number</th>\n",
       "      <th>price</th>\n",
       "      <th>status</th>\n",
       "      <th>city</th>\n",
       "      <th>time</th>\n",
       "    </tr>\n",
       "  </thead>\n",
       "  <tbody>\n",
       "    <tr>\n",
       "      <th>0</th>\n",
       "      <td>0912 594 32 72</td>\n",
       "      <td>16600000.0</td>\n",
       "      <td>0</td>\n",
       "      <td>تهران</td>\n",
       "      <td>23 ثانیه</td>\n",
       "    </tr>\n",
       "    <tr>\n",
       "      <th>1</th>\n",
       "      <td>0912 36 57 259</td>\n",
       "      <td>17100000.0</td>\n",
       "      <td>0</td>\n",
       "      <td>تهران</td>\n",
       "      <td>23 ثانیه</td>\n",
       "    </tr>\n",
       "    <tr>\n",
       "      <th>2</th>\n",
       "      <td>0912 796 21 54</td>\n",
       "      <td>9700000.0</td>\n",
       "      <td>0</td>\n",
       "      <td>تهران</td>\n",
       "      <td>23 ثانیه</td>\n",
       "    </tr>\n",
       "    <tr>\n",
       "      <th>3</th>\n",
       "      <td>0912 051 91 73</td>\n",
       "      <td>7500000.0</td>\n",
       "      <td>0</td>\n",
       "      <td>تهران</td>\n",
       "      <td>23 ثانیه</td>\n",
       "    </tr>\n",
       "    <tr>\n",
       "      <th>4</th>\n",
       "      <td>0912 350 52 63</td>\n",
       "      <td>25000000.0</td>\n",
       "      <td>0</td>\n",
       "      <td>تهران</td>\n",
       "      <td>23 ثانیه</td>\n",
       "    </tr>\n",
       "  </tbody>\n",
       "</table>\n",
       "</div>"
      ],
      "text/plain": [
       "     phone_number       price  status   city      time\n",
       "0  0912 594 32 72  16600000.0       0  تهران  23 ثانیه\n",
       "1  0912 36 57 259  17100000.0       0  تهران  23 ثانیه\n",
       "2  0912 796 21 54   9700000.0       0  تهران  23 ثانیه\n",
       "3  0912 051 91 73   7500000.0       0  تهران  23 ثانیه\n",
       "4  0912 350 52 63  25000000.0       0  تهران  23 ثانیه"
      ]
     },
     "execution_count": 57,
     "metadata": {},
     "output_type": "execute_result"
    }
   ],
   "source": [
    "df.head()"
   ]
  },
  {
   "cell_type": "markdown",
   "id": "85759330-ffdc-4106-b43c-8f287a820210",
   "metadata": {},
   "source": [
    "### 4.3 `city` column"
   ]
  },
  {
   "cell_type": "markdown",
   "id": "e24efd5f-7022-4f3a-8756-305e385ae10a",
   "metadata": {},
   "source": [
    "#### 4.3.1 Check city names and their size"
   ]
  },
  {
   "cell_type": "code",
   "execution_count": 58,
   "id": "4f126083-81ec-49c0-a08a-ddda9c25ceb7",
   "metadata": {},
   "outputs": [
    {
     "name": "stdout",
     "output_type": "stream",
     "text": [
      "We have 239 cities in data.\n"
     ]
    }
   ],
   "source": [
    "cities = df.city.unique()\n",
    "print(f'We have {len(cities)} cities in data.')"
   ]
  },
  {
   "cell_type": "code",
   "execution_count": 59,
   "id": "1b893a6e-6376-4c42-86ce-4f77d30684ed",
   "metadata": {},
   "outputs": [
    {
     "data": {
      "text/plain": [
       "array(['تهران', 'اصفهان', 'شيراز', 'جهرم', 'مشهد', 'همدان', 'ساری', 'رشت',\n",
       "       'گرگان', 'شمیرانات', 'آمل', 'کرج', 'اسلام شهر', 'قم', 'سمنان',\n",
       "       'تبريز', 'آبيک', 'ايلام', 'کرمان', 'ورامين', 'يزد', 'کرمانشاه',\n",
       "       'نظرآباد', 'شهريار', 'گچساران', 'سنندج', 'کاشان', 'شهرضا', 'زنجان',\n",
       "       'قشم', 'اهواز', 'بابل', 'پیشوا', 'رباط کريم', 'شهرکرد', 'اردبيل',\n",
       "       'ابهر', 'سلماس', 'رفسنجان', 'کازرون', 'مرودشت', 'بندر عباس',\n",
       "       'گناوه', 'آباده', 'بندر ماهشهر', 'قزوين', 'اروميه', 'دماوند',\n",
       "       'برخوار', 'زاهدان', 'بوشهر', 'بيرجند', 'بجنورد', 'آبادان',\n",
       "       'اليگودرز', 'گنبد کاووس', 'نجف آباد', 'بناب', 'آران و بيدگل',\n",
       "       'جيرفت', 'زرند', 'خوي', 'دهاقان', 'سقز', 'ری', 'ميانه', 'اراک',\n",
       "       'گراش', 'گناباد', 'بابلسر', 'نائين', 'شاهين شهر و میمه', 'مبارکه',\n",
       "       'سميرم', 'خمينی شهر', 'چادگان', 'گلپايگان', 'خوانسار', 'خرمشهر',\n",
       "       'دزفول', 'بانه', 'مريوان', 'قدس', 'بم', 'دامغان', 'تاکستان',\n",
       "       'اسلام آباد غرب', 'ارزوئیه', 'ميبد', 'اسدآباد', 'سرايان',\n",
       "       'بینالود', 'بشرویه', 'جوین', 'خليل آباد', 'سراوان', 'میرجاوه',\n",
       "       'هامون', 'قصرقند', 'ریگان', 'ازنا', 'دورود', 'پل دختر', 'شيروان',\n",
       "       'اسفراين', 'چناران', 'فاروج', 'ايرانشهر', 'زابل', 'مهرستان',\n",
       "       'بافت', 'بندر انزلی', 'بروجن', 'رودبار جنوب', 'هیرمند', 'فنوج',\n",
       "       'تربت جام', 'مانه و سملقان', 'خرم آباد', 'جغتای', 'سرباز',\n",
       "       'چابهار', 'دلگان', 'زهک', 'سیب سوران', 'راز و جرگلان', 'باوی',\n",
       "       'خوشاب', 'آذر شهر', 'مشکين شهر', 'حمیدیه', 'بهبهان', 'شوش',\n",
       "       'کارون', 'دشت آزادگان', 'رامشير', 'شوشتر', 'آغاجاری', 'ايذه',\n",
       "       'سلسله', 'دلفان', 'باغ ملک', 'اميديه', 'بروجرد', 'هنديجان',\n",
       "       'انديمشک', 'هویزه', 'کوهدشت', 'رومشکان', 'کیار', 'سيرجان', 'لالی',\n",
       "       'هفتگل', 'اندیکا', 'مسجد سليمان', 'دوره', 'البرز', 'بوئين زهرا',\n",
       "       'کنارک', 'نيک شهر', 'دالاهو', 'خاش', 'شاهرود', 'اردل', 'آستارا',\n",
       "       'ابرکوه', 'بویر احمد', 'کهگيلويه', 'صدوق', 'نیمروز', 'باشت',\n",
       "       'اردکان', 'رابر', 'راور', 'کوهبنان', 'بافق', 'مهريز', 'فریدونکنار',\n",
       "       'باخرز', 'آشتيان', 'خنج', 'نيشابور', 'سر دشت', 'پيرانشهر', 'فسا',\n",
       "       'لارستان', 'فردیس', 'دشتستان', 'عباس آباد', 'بوکان', 'چالوس',\n",
       "       'ساوه', 'خواف', 'نوشهر', 'صومعه سرا', 'قائم شهر', 'محمود آباد',\n",
       "       'کلاردشت', 'رامسر', 'تنکابن', 'تالش', 'لاهيجان', 'مينو دشت',\n",
       "       'رودبار', 'رودسر', 'آزادشهر', 'کلاله', 'جويبار', 'ارسنجان',\n",
       "       'اقليد', 'سروستان', 'زرين دشت', 'بستک', 'بندر لنگه', 'نور',\n",
       "       'بهارستان', 'جوانرود', 'سبزوار', 'بيجار', 'زرنديه', 'مه ولات',\n",
       "       'ماکو', 'کنگان', 'فيروز آباد', 'فلاور جان', 'خرم بيد', 'مراغه',\n",
       "       'ماه نشان', 'مهاباد', 'طارم', 'سر پل ذهاب', 'سراب', 'ميناب',\n",
       "       'تربت حيدريه', 'دهلران', 'نهاوند', 'ملارد', 'درگز', 'پارس آباد'],\n",
       "      dtype=object)"
      ]
     },
     "execution_count": 59,
     "metadata": {},
     "output_type": "execute_result"
    }
   ],
   "source": [
    "cities"
   ]
  },
  {
   "cell_type": "markdown",
   "id": "534165c0-1463-46c0-9cca-22268b522060",
   "metadata": {},
   "source": [
    "#### 4.3.2 Encode city names using `category_encoders.BinaryEncoder` "
   ]
  },
  {
   "cell_type": "code",
   "execution_count": 60,
   "id": "0ec76ddd-5686-46a1-8744-01fa5c4b0afa",
   "metadata": {},
   "outputs": [],
   "source": [
    "import category_encoders as ce"
   ]
  },
  {
   "cell_type": "code",
   "execution_count": 61,
   "id": "84e63850-80e2-43f2-8d15-29f69b2404bc",
   "metadata": {},
   "outputs": [],
   "source": [
    "binary_encoder = ce.BinaryEncoder(cols=['city'])\n",
    "df = binary_encoder.fit_transform(df)"
   ]
  },
  {
   "cell_type": "code",
   "execution_count": 62,
   "id": "56741487-7dd4-402c-98b1-370e3386f75a",
   "metadata": {},
   "outputs": [
    {
     "data": {
      "text/html": [
       "<div>\n",
       "<style scoped>\n",
       "    .dataframe tbody tr th:only-of-type {\n",
       "        vertical-align: middle;\n",
       "    }\n",
       "\n",
       "    .dataframe tbody tr th {\n",
       "        vertical-align: top;\n",
       "    }\n",
       "\n",
       "    .dataframe thead th {\n",
       "        text-align: right;\n",
       "    }\n",
       "</style>\n",
       "<table border=\"1\" class=\"dataframe\">\n",
       "  <thead>\n",
       "    <tr style=\"text-align: right;\">\n",
       "      <th></th>\n",
       "      <th>phone_number</th>\n",
       "      <th>price</th>\n",
       "      <th>status</th>\n",
       "      <th>city_0</th>\n",
       "      <th>city_1</th>\n",
       "      <th>city_2</th>\n",
       "      <th>city_3</th>\n",
       "      <th>city_4</th>\n",
       "      <th>city_5</th>\n",
       "      <th>city_6</th>\n",
       "      <th>city_7</th>\n",
       "      <th>time</th>\n",
       "    </tr>\n",
       "  </thead>\n",
       "  <tbody>\n",
       "    <tr>\n",
       "      <th>0</th>\n",
       "      <td>0912 594 32 72</td>\n",
       "      <td>16600000.0</td>\n",
       "      <td>0</td>\n",
       "      <td>0</td>\n",
       "      <td>0</td>\n",
       "      <td>0</td>\n",
       "      <td>0</td>\n",
       "      <td>0</td>\n",
       "      <td>0</td>\n",
       "      <td>0</td>\n",
       "      <td>1</td>\n",
       "      <td>23 ثانیه</td>\n",
       "    </tr>\n",
       "    <tr>\n",
       "      <th>1</th>\n",
       "      <td>0912 36 57 259</td>\n",
       "      <td>17100000.0</td>\n",
       "      <td>0</td>\n",
       "      <td>0</td>\n",
       "      <td>0</td>\n",
       "      <td>0</td>\n",
       "      <td>0</td>\n",
       "      <td>0</td>\n",
       "      <td>0</td>\n",
       "      <td>0</td>\n",
       "      <td>1</td>\n",
       "      <td>23 ثانیه</td>\n",
       "    </tr>\n",
       "    <tr>\n",
       "      <th>2</th>\n",
       "      <td>0912 796 21 54</td>\n",
       "      <td>9700000.0</td>\n",
       "      <td>0</td>\n",
       "      <td>0</td>\n",
       "      <td>0</td>\n",
       "      <td>0</td>\n",
       "      <td>0</td>\n",
       "      <td>0</td>\n",
       "      <td>0</td>\n",
       "      <td>0</td>\n",
       "      <td>1</td>\n",
       "      <td>23 ثانیه</td>\n",
       "    </tr>\n",
       "    <tr>\n",
       "      <th>3</th>\n",
       "      <td>0912 051 91 73</td>\n",
       "      <td>7500000.0</td>\n",
       "      <td>0</td>\n",
       "      <td>0</td>\n",
       "      <td>0</td>\n",
       "      <td>0</td>\n",
       "      <td>0</td>\n",
       "      <td>0</td>\n",
       "      <td>0</td>\n",
       "      <td>0</td>\n",
       "      <td>1</td>\n",
       "      <td>23 ثانیه</td>\n",
       "    </tr>\n",
       "    <tr>\n",
       "      <th>4</th>\n",
       "      <td>0912 350 52 63</td>\n",
       "      <td>25000000.0</td>\n",
       "      <td>0</td>\n",
       "      <td>0</td>\n",
       "      <td>0</td>\n",
       "      <td>0</td>\n",
       "      <td>0</td>\n",
       "      <td>0</td>\n",
       "      <td>0</td>\n",
       "      <td>0</td>\n",
       "      <td>1</td>\n",
       "      <td>23 ثانیه</td>\n",
       "    </tr>\n",
       "  </tbody>\n",
       "</table>\n",
       "</div>"
      ],
      "text/plain": [
       "     phone_number       price  status  city_0  city_1  city_2  city_3  city_4  \\\n",
       "0  0912 594 32 72  16600000.0       0       0       0       0       0       0   \n",
       "1  0912 36 57 259  17100000.0       0       0       0       0       0       0   \n",
       "2  0912 796 21 54   9700000.0       0       0       0       0       0       0   \n",
       "3  0912 051 91 73   7500000.0       0       0       0       0       0       0   \n",
       "4  0912 350 52 63  25000000.0       0       0       0       0       0       0   \n",
       "\n",
       "   city_5  city_6  city_7      time  \n",
       "0       0       0       1  23 ثانیه  \n",
       "1       0       0       1  23 ثانیه  \n",
       "2       0       0       1  23 ثانیه  \n",
       "3       0       0       1  23 ثانیه  \n",
       "4       0       0       1  23 ثانیه  "
      ]
     },
     "execution_count": 62,
     "metadata": {},
     "output_type": "execute_result"
    }
   ],
   "source": [
    "df.head()"
   ]
  },
  {
   "cell_type": "markdown",
   "id": "01a77260-2a7c-4bcf-b89c-9e247762e71b",
   "metadata": {},
   "source": [
    "### 4.4 `time` column"
   ]
  },
  {
   "cell_type": "code",
   "execution_count": 63,
   "id": "b379d854-148f-485f-ad0c-2acd656d9c47",
   "metadata": {},
   "outputs": [],
   "source": [
    "times = df.time"
   ]
  },
  {
   "cell_type": "code",
   "execution_count": 64,
   "id": "2f0ed035-1043-4dba-93c9-b275e722a182",
   "metadata": {},
   "outputs": [
    {
     "data": {
      "text/plain": [
       "0           23 ثانیه\n",
       "1           23 ثانیه\n",
       "2           23 ثانیه\n",
       "3           23 ثانیه\n",
       "4           23 ثانیه\n",
       "             ...    \n",
       "623552    39 روز پیش\n",
       "623553    39 روز پیش\n",
       "623556    39 روز پیش\n",
       "623557    39 روز پیش\n",
       "623558    40 روز پیش\n",
       "Name: time, Length: 401398, dtype: object"
      ]
     },
     "execution_count": 64,
     "metadata": {},
     "output_type": "execute_result"
    }
   ],
   "source": [
    "times"
   ]
  },
  {
   "cell_type": "markdown",
   "id": "3fa6e0f1-adc1-4883-a3fe-feaeaaefcb64",
   "metadata": {},
   "source": [
    "#### 4.4.1 Define `regex` patterns for splitting digits and words"
   ]
  },
  {
   "cell_type": "code",
   "execution_count": 65,
   "id": "b9910db7-e1ab-4a8d-9eba-fd05a6d347fc",
   "metadata": {},
   "outputs": [],
   "source": [
    "import re\n",
    "pattern = r'(\\d+) ([^\\d]+)'"
   ]
  },
  {
   "cell_type": "code",
   "execution_count": 66,
   "id": "b771ebe8-e8ae-4369-8a93-c0be0302a355",
   "metadata": {},
   "outputs": [
    {
     "data": {
      "text/plain": [
       "[('23', 'ثانیه'),\n",
       " ('23', 'ثانیه'),\n",
       " ('23', 'ثانیه'),\n",
       " ('23', 'ثانیه'),\n",
       " ('23', 'ثانیه')]"
      ]
     },
     "execution_count": 66,
     "metadata": {},
     "output_type": "execute_result"
    }
   ],
   "source": [
    "res = [re.findall(pattern , text)[0] for text in times]\n",
    "res[:5]"
   ]
  },
  {
   "cell_type": "markdown",
   "id": "a39e62dc-49c6-48cf-a4a6-c53c09f93596",
   "metadata": {},
   "source": [
    "#### 4.4.2 Extract time units"
   ]
  },
  {
   "cell_type": "code",
   "execution_count": 67,
   "id": "01d91a9b-8998-4c04-b088-009d6d2afdd2",
   "metadata": {},
   "outputs": [
    {
     "data": {
      "text/plain": [
       "['ساعت', 'دقیقه', 'روز پیش', 'ثانیه']"
      ]
     },
     "execution_count": 67,
     "metadata": {},
     "output_type": "execute_result"
    }
   ],
   "source": [
    "time_units = set()\n",
    "for units in res:\n",
    "    time_units.add(units[1])\n",
    "time_units = list(time_units)\n",
    "time_units"
   ]
  },
  {
   "cell_type": "code",
   "execution_count": 68,
   "id": "69c67757-582b-4b25-abfe-aaedcc34b7f4",
   "metadata": {},
   "outputs": [
    {
     "data": {
      "text/plain": [
       "'دقیقه'"
      ]
     },
     "execution_count": 68,
     "metadata": {},
     "output_type": "execute_result"
    }
   ],
   "source": [
    "time_units[1]"
   ]
  },
  {
   "cell_type": "markdown",
   "id": "f2a6cc79-6e8a-45ec-9983-b976d71207b9",
   "metadata": {},
   "source": [
    "#### 4.4.3 Convert all `time_units` to seconds"
   ]
  },
  {
   "cell_type": "code",
   "execution_count": 69,
   "id": "58ad810e-9e88-4e05-8bd6-09938ac12765",
   "metadata": {},
   "outputs": [],
   "source": [
    "time_units_map = {\n",
    "    time_units[3]: 1 ,\n",
    "    time_units[2]:24 * 60 * 60 ,\n",
    "    time_units[1]: 60 ,\n",
    "    time_units[0]: 60 * 60\n",
    "}"
   ]
  },
  {
   "cell_type": "code",
   "execution_count": 70,
   "id": "069d3820-3582-4433-8ad7-b5d358a792fb",
   "metadata": {},
   "outputs": [
    {
     "data": {
      "text/plain": [
       "[23, 23, 23, 23, 23]"
      ]
     },
     "execution_count": 70,
     "metadata": {},
     "output_type": "execute_result"
    }
   ],
   "source": [
    "preProcessed_time = [int(time_expr[0]) * time_units_map[time_expr[1]] for time_expr in res]\n",
    "preProcessed_time[:5]"
   ]
  },
  {
   "cell_type": "code",
   "execution_count": 71,
   "id": "543f8ec5-a9a6-4614-87db-23bf5df934be",
   "metadata": {},
   "outputs": [],
   "source": [
    "df.time = preProcessed_time"
   ]
  },
  {
   "cell_type": "code",
   "execution_count": 72,
   "id": "a5a576ed-1842-4ab0-931b-39fb1687369b",
   "metadata": {},
   "outputs": [
    {
     "data": {
      "text/html": [
       "<div>\n",
       "<style scoped>\n",
       "    .dataframe tbody tr th:only-of-type {\n",
       "        vertical-align: middle;\n",
       "    }\n",
       "\n",
       "    .dataframe tbody tr th {\n",
       "        vertical-align: top;\n",
       "    }\n",
       "\n",
       "    .dataframe thead th {\n",
       "        text-align: right;\n",
       "    }\n",
       "</style>\n",
       "<table border=\"1\" class=\"dataframe\">\n",
       "  <thead>\n",
       "    <tr style=\"text-align: right;\">\n",
       "      <th></th>\n",
       "      <th>phone_number</th>\n",
       "      <th>price</th>\n",
       "      <th>status</th>\n",
       "      <th>city_0</th>\n",
       "      <th>city_1</th>\n",
       "      <th>city_2</th>\n",
       "      <th>city_3</th>\n",
       "      <th>city_4</th>\n",
       "      <th>city_5</th>\n",
       "      <th>city_6</th>\n",
       "      <th>city_7</th>\n",
       "      <th>time</th>\n",
       "    </tr>\n",
       "  </thead>\n",
       "  <tbody>\n",
       "    <tr>\n",
       "      <th>0</th>\n",
       "      <td>0912 594 32 72</td>\n",
       "      <td>16600000.0</td>\n",
       "      <td>0</td>\n",
       "      <td>0</td>\n",
       "      <td>0</td>\n",
       "      <td>0</td>\n",
       "      <td>0</td>\n",
       "      <td>0</td>\n",
       "      <td>0</td>\n",
       "      <td>0</td>\n",
       "      <td>1</td>\n",
       "      <td>23</td>\n",
       "    </tr>\n",
       "    <tr>\n",
       "      <th>1</th>\n",
       "      <td>0912 36 57 259</td>\n",
       "      <td>17100000.0</td>\n",
       "      <td>0</td>\n",
       "      <td>0</td>\n",
       "      <td>0</td>\n",
       "      <td>0</td>\n",
       "      <td>0</td>\n",
       "      <td>0</td>\n",
       "      <td>0</td>\n",
       "      <td>0</td>\n",
       "      <td>1</td>\n",
       "      <td>23</td>\n",
       "    </tr>\n",
       "    <tr>\n",
       "      <th>2</th>\n",
       "      <td>0912 796 21 54</td>\n",
       "      <td>9700000.0</td>\n",
       "      <td>0</td>\n",
       "      <td>0</td>\n",
       "      <td>0</td>\n",
       "      <td>0</td>\n",
       "      <td>0</td>\n",
       "      <td>0</td>\n",
       "      <td>0</td>\n",
       "      <td>0</td>\n",
       "      <td>1</td>\n",
       "      <td>23</td>\n",
       "    </tr>\n",
       "    <tr>\n",
       "      <th>3</th>\n",
       "      <td>0912 051 91 73</td>\n",
       "      <td>7500000.0</td>\n",
       "      <td>0</td>\n",
       "      <td>0</td>\n",
       "      <td>0</td>\n",
       "      <td>0</td>\n",
       "      <td>0</td>\n",
       "      <td>0</td>\n",
       "      <td>0</td>\n",
       "      <td>0</td>\n",
       "      <td>1</td>\n",
       "      <td>23</td>\n",
       "    </tr>\n",
       "    <tr>\n",
       "      <th>4</th>\n",
       "      <td>0912 350 52 63</td>\n",
       "      <td>25000000.0</td>\n",
       "      <td>0</td>\n",
       "      <td>0</td>\n",
       "      <td>0</td>\n",
       "      <td>0</td>\n",
       "      <td>0</td>\n",
       "      <td>0</td>\n",
       "      <td>0</td>\n",
       "      <td>0</td>\n",
       "      <td>1</td>\n",
       "      <td>23</td>\n",
       "    </tr>\n",
       "  </tbody>\n",
       "</table>\n",
       "</div>"
      ],
      "text/plain": [
       "     phone_number       price  status  city_0  city_1  city_2  city_3  city_4  \\\n",
       "0  0912 594 32 72  16600000.0       0       0       0       0       0       0   \n",
       "1  0912 36 57 259  17100000.0       0       0       0       0       0       0   \n",
       "2  0912 796 21 54   9700000.0       0       0       0       0       0       0   \n",
       "3  0912 051 91 73   7500000.0       0       0       0       0       0       0   \n",
       "4  0912 350 52 63  25000000.0       0       0       0       0       0       0   \n",
       "\n",
       "   city_5  city_6  city_7  time  \n",
       "0       0       0       1    23  \n",
       "1       0       0       1    23  \n",
       "2       0       0       1    23  \n",
       "3       0       0       1    23  \n",
       "4       0       0       1    23  "
      ]
     },
     "execution_count": 72,
     "metadata": {},
     "output_type": "execute_result"
    }
   ],
   "source": [
    "df.head()"
   ]
  },
  {
   "cell_type": "markdown",
   "id": "2a52e8d0-0a5f-4356-bbd5-85cf0908281d",
   "metadata": {},
   "source": [
    "### 4.5 `phone_number` column"
   ]
  },
  {
   "cell_type": "code",
   "execution_count": 73,
   "id": "ebfe6dda-1fdb-461e-9108-2ec31d8a1f56",
   "metadata": {},
   "outputs": [],
   "source": [
    "phone_numbers = df.phone_number.astype(str)"
   ]
  },
  {
   "cell_type": "code",
   "execution_count": 74,
   "id": "09d18dbd-1742-4cad-b598-2f4ff89ea1e2",
   "metadata": {},
   "outputs": [],
   "source": [
    "def preprocess_phone(num):\n",
    "    num = num.replace(\" \", \"\")\n",
    "    if not num.isdigit():\n",
    "        return np.nan\n",
    "    if num[0] == '0': num = num[1:]\n",
    "    if len(num) == 10:\n",
    "        return num\n",
    "    return np.nan"
   ]
  },
  {
   "cell_type": "code",
   "execution_count": 75,
   "id": "1f65a267-f48f-4d00-9f44-ee46cea9fca6",
   "metadata": {},
   "outputs": [],
   "source": [
    "phone_numbers = phone_numbers.apply(preprocess_phone)"
   ]
  },
  {
   "cell_type": "code",
   "execution_count": 76,
   "id": "a8470d8f-0f81-4ded-acd5-1b35a010670e",
   "metadata": {},
   "outputs": [],
   "source": [
    "df.phone_number = phone_numbers"
   ]
  },
  {
   "cell_type": "code",
   "execution_count": 77,
   "id": "0c5a42f1-8928-405f-a3a7-31b75a879f59",
   "metadata": {},
   "outputs": [
    {
     "data": {
      "text/html": [
       "<div>\n",
       "<style scoped>\n",
       "    .dataframe tbody tr th:only-of-type {\n",
       "        vertical-align: middle;\n",
       "    }\n",
       "\n",
       "    .dataframe tbody tr th {\n",
       "        vertical-align: top;\n",
       "    }\n",
       "\n",
       "    .dataframe thead th {\n",
       "        text-align: right;\n",
       "    }\n",
       "</style>\n",
       "<table border=\"1\" class=\"dataframe\">\n",
       "  <thead>\n",
       "    <tr style=\"text-align: right;\">\n",
       "      <th></th>\n",
       "      <th>phone_number</th>\n",
       "      <th>price</th>\n",
       "      <th>status</th>\n",
       "      <th>city_0</th>\n",
       "      <th>city_1</th>\n",
       "      <th>city_2</th>\n",
       "      <th>city_3</th>\n",
       "      <th>city_4</th>\n",
       "      <th>city_5</th>\n",
       "      <th>city_6</th>\n",
       "      <th>city_7</th>\n",
       "      <th>time</th>\n",
       "    </tr>\n",
       "  </thead>\n",
       "  <tbody>\n",
       "    <tr>\n",
       "      <th>0</th>\n",
       "      <td>9125943272</td>\n",
       "      <td>16600000.0</td>\n",
       "      <td>0</td>\n",
       "      <td>0</td>\n",
       "      <td>0</td>\n",
       "      <td>0</td>\n",
       "      <td>0</td>\n",
       "      <td>0</td>\n",
       "      <td>0</td>\n",
       "      <td>0</td>\n",
       "      <td>1</td>\n",
       "      <td>23</td>\n",
       "    </tr>\n",
       "    <tr>\n",
       "      <th>1</th>\n",
       "      <td>9123657259</td>\n",
       "      <td>17100000.0</td>\n",
       "      <td>0</td>\n",
       "      <td>0</td>\n",
       "      <td>0</td>\n",
       "      <td>0</td>\n",
       "      <td>0</td>\n",
       "      <td>0</td>\n",
       "      <td>0</td>\n",
       "      <td>0</td>\n",
       "      <td>1</td>\n",
       "      <td>23</td>\n",
       "    </tr>\n",
       "    <tr>\n",
       "      <th>2</th>\n",
       "      <td>9127962154</td>\n",
       "      <td>9700000.0</td>\n",
       "      <td>0</td>\n",
       "      <td>0</td>\n",
       "      <td>0</td>\n",
       "      <td>0</td>\n",
       "      <td>0</td>\n",
       "      <td>0</td>\n",
       "      <td>0</td>\n",
       "      <td>0</td>\n",
       "      <td>1</td>\n",
       "      <td>23</td>\n",
       "    </tr>\n",
       "    <tr>\n",
       "      <th>3</th>\n",
       "      <td>9120519173</td>\n",
       "      <td>7500000.0</td>\n",
       "      <td>0</td>\n",
       "      <td>0</td>\n",
       "      <td>0</td>\n",
       "      <td>0</td>\n",
       "      <td>0</td>\n",
       "      <td>0</td>\n",
       "      <td>0</td>\n",
       "      <td>0</td>\n",
       "      <td>1</td>\n",
       "      <td>23</td>\n",
       "    </tr>\n",
       "    <tr>\n",
       "      <th>4</th>\n",
       "      <td>9123505263</td>\n",
       "      <td>25000000.0</td>\n",
       "      <td>0</td>\n",
       "      <td>0</td>\n",
       "      <td>0</td>\n",
       "      <td>0</td>\n",
       "      <td>0</td>\n",
       "      <td>0</td>\n",
       "      <td>0</td>\n",
       "      <td>0</td>\n",
       "      <td>1</td>\n",
       "      <td>23</td>\n",
       "    </tr>\n",
       "  </tbody>\n",
       "</table>\n",
       "</div>"
      ],
      "text/plain": [
       "  phone_number       price  status  city_0  city_1  city_2  city_3  city_4  \\\n",
       "0   9125943272  16600000.0       0       0       0       0       0       0   \n",
       "1   9123657259  17100000.0       0       0       0       0       0       0   \n",
       "2   9127962154   9700000.0       0       0       0       0       0       0   \n",
       "3   9120519173   7500000.0       0       0       0       0       0       0   \n",
       "4   9123505263  25000000.0       0       0       0       0       0       0   \n",
       "\n",
       "   city_5  city_6  city_7  time  \n",
       "0       0       0       1    23  \n",
       "1       0       0       1    23  \n",
       "2       0       0       1    23  \n",
       "3       0       0       1    23  \n",
       "4       0       0       1    23  "
      ]
     },
     "execution_count": 77,
     "metadata": {},
     "output_type": "execute_result"
    }
   ],
   "source": [
    "df.head()"
   ]
  },
  {
   "cell_type": "code",
   "execution_count": 78,
   "id": "51be2c5f",
   "metadata": {},
   "outputs": [
    {
     "name": "stdout",
     "output_type": "stream",
     "text": [
      "<class 'pandas.core.frame.DataFrame'>\n",
      "Int64Index: 401398 entries, 0 to 623558\n",
      "Data columns (total 12 columns):\n",
      " #   Column        Non-Null Count   Dtype  \n",
      "---  ------        --------------   -----  \n",
      " 0   phone_number  400988 non-null  object \n",
      " 1   price         401398 non-null  float64\n",
      " 2   status        401398 non-null  int64  \n",
      " 3   city_0        401398 non-null  int64  \n",
      " 4   city_1        401398 non-null  int64  \n",
      " 5   city_2        401398 non-null  int64  \n",
      " 6   city_3        401398 non-null  int64  \n",
      " 7   city_4        401398 non-null  int64  \n",
      " 8   city_5        401398 non-null  int64  \n",
      " 9   city_6        401398 non-null  int64  \n",
      " 10  city_7        401398 non-null  int64  \n",
      " 11  time          401398 non-null  int64  \n",
      "dtypes: float64(1), int64(10), object(1)\n",
      "memory usage: 39.8+ MB\n"
     ]
    }
   ],
   "source": [
    "df.info()"
   ]
  },
  {
   "cell_type": "markdown",
   "id": "30907f6b-4040-415d-ade3-514edadc2110",
   "metadata": {},
   "source": [
    "## 5. Drop rows with `NaN` values"
   ]
  },
  {
   "cell_type": "code",
   "execution_count": 79,
   "id": "ac04e5ee-84b4-48e7-96d8-5d3a9cca3a8b",
   "metadata": {},
   "outputs": [
    {
     "data": {
      "text/plain": [
       "phone_number    410\n",
       "price             0\n",
       "status            0\n",
       "city_0            0\n",
       "city_1            0\n",
       "city_2            0\n",
       "city_3            0\n",
       "city_4            0\n",
       "city_5            0\n",
       "city_6            0\n",
       "city_7            0\n",
       "time              0\n",
       "dtype: int64"
      ]
     },
     "execution_count": 79,
     "metadata": {},
     "output_type": "execute_result"
    }
   ],
   "source": [
    "df.isnull().sum()"
   ]
  },
  {
   "cell_type": "code",
   "execution_count": 80,
   "id": "d9054f50-f577-4c75-bb5d-686683e352c9",
   "metadata": {},
   "outputs": [],
   "source": [
    "df.dropna(inplace=True)"
   ]
  },
  {
   "cell_type": "code",
   "execution_count": 81,
   "id": "18126489-83db-482e-b873-95765a2b1334",
   "metadata": {},
   "outputs": [
    {
     "data": {
      "text/plain": [
       "phone_number    0\n",
       "price           0\n",
       "status          0\n",
       "city_0          0\n",
       "city_1          0\n",
       "city_2          0\n",
       "city_3          0\n",
       "city_4          0\n",
       "city_5          0\n",
       "city_6          0\n",
       "city_7          0\n",
       "time            0\n",
       "dtype: int64"
      ]
     },
     "execution_count": 81,
     "metadata": {},
     "output_type": "execute_result"
    }
   ],
   "source": [
    "df.isnull().sum()"
   ]
  },
  {
   "cell_type": "code",
   "execution_count": 82,
   "id": "bb219330-6be2-44b5-8fc1-5e98d8291ce5",
   "metadata": {},
   "outputs": [
    {
     "name": "stdout",
     "output_type": "stream",
     "text": [
      "<class 'pandas.core.frame.DataFrame'>\n",
      "Int64Index: 400988 entries, 0 to 623558\n",
      "Data columns (total 12 columns):\n",
      " #   Column        Non-Null Count   Dtype  \n",
      "---  ------        --------------   -----  \n",
      " 0   phone_number  400988 non-null  object \n",
      " 1   price         400988 non-null  float64\n",
      " 2   status        400988 non-null  int64  \n",
      " 3   city_0        400988 non-null  int64  \n",
      " 4   city_1        400988 non-null  int64  \n",
      " 5   city_2        400988 non-null  int64  \n",
      " 6   city_3        400988 non-null  int64  \n",
      " 7   city_4        400988 non-null  int64  \n",
      " 8   city_5        400988 non-null  int64  \n",
      " 9   city_6        400988 non-null  int64  \n",
      " 10  city_7        400988 non-null  int64  \n",
      " 11  time          400988 non-null  int64  \n",
      "dtypes: float64(1), int64(10), object(1)\n",
      "memory usage: 39.8+ MB\n"
     ]
    }
   ],
   "source": [
    "df.info()"
   ]
  },
  {
   "cell_type": "markdown",
   "id": "03023a27-069b-47af-9883-9b0bba0683eb",
   "metadata": {},
   "source": [
    "## 6. Feature Extraction"
   ]
  },
  {
   "cell_type": "markdown",
   "id": "c77b73ae-ce66-4d18-a387-c4d02995befe",
   "metadata": {},
   "source": [
    "### 6.1 Area code"
   ]
  },
  {
   "cell_type": "markdown",
   "id": "b1a7a546-7ff3-4482-a594-91d95c07eb40",
   "metadata": {},
   "source": [
    "### 6.1.1 Count unique area codes"
   ]
  },
  {
   "cell_type": "code",
   "execution_count": 83,
   "id": "c1b5bc24-27f2-4a66-bf2b-68cb682b9931",
   "metadata": {},
   "outputs": [
    {
     "name": "stdout",
     "output_type": "stream",
     "text": [
      "We have 34 different area codes in data.\n"
     ]
    }
   ],
   "source": [
    "area_code = set()\n",
    "for num in df.phone_number:\n",
    "    area_code.add(num[:3])\n",
    "area_code_lst = list(area_code)\n",
    "print(f\"We have {len(area_code)} different area codes in data.\")"
   ]
  },
  {
   "cell_type": "markdown",
   "id": "8ecd1671-0c78-44da-b9b1-ef9aeecfe32f",
   "metadata": {},
   "source": [
    "### 6.1.2 Encode area codes"
   ]
  },
  {
   "cell_type": "code",
   "execution_count": 84,
   "id": "6b3bb0e5-cac1-468d-9d56-a24a8fe2f92a",
   "metadata": {},
   "outputs": [],
   "source": [
    "df['area_code'] = df.phone_number.str[:3]\n",
    "area_code_bin_enc = ce.BinaryEncoder(cols=['area_code'])\n",
    "df = area_code_bin_enc.fit_transform(df)"
   ]
  },
  {
   "cell_type": "code",
   "execution_count": 85,
   "id": "b7b26390-a000-4093-a014-194304835716",
   "metadata": {},
   "outputs": [
    {
     "data": {
      "text/html": [
       "<div>\n",
       "<style scoped>\n",
       "    .dataframe tbody tr th:only-of-type {\n",
       "        vertical-align: middle;\n",
       "    }\n",
       "\n",
       "    .dataframe tbody tr th {\n",
       "        vertical-align: top;\n",
       "    }\n",
       "\n",
       "    .dataframe thead th {\n",
       "        text-align: right;\n",
       "    }\n",
       "</style>\n",
       "<table border=\"1\" class=\"dataframe\">\n",
       "  <thead>\n",
       "    <tr style=\"text-align: right;\">\n",
       "      <th></th>\n",
       "      <th>phone_number</th>\n",
       "      <th>price</th>\n",
       "      <th>status</th>\n",
       "      <th>city_0</th>\n",
       "      <th>city_1</th>\n",
       "      <th>city_2</th>\n",
       "      <th>city_3</th>\n",
       "      <th>city_4</th>\n",
       "      <th>city_5</th>\n",
       "      <th>city_6</th>\n",
       "      <th>city_7</th>\n",
       "      <th>time</th>\n",
       "      <th>area_code_0</th>\n",
       "      <th>area_code_1</th>\n",
       "      <th>area_code_2</th>\n",
       "      <th>area_code_3</th>\n",
       "      <th>area_code_4</th>\n",
       "      <th>area_code_5</th>\n",
       "    </tr>\n",
       "  </thead>\n",
       "  <tbody>\n",
       "    <tr>\n",
       "      <th>0</th>\n",
       "      <td>9125943272</td>\n",
       "      <td>16600000.0</td>\n",
       "      <td>0</td>\n",
       "      <td>0</td>\n",
       "      <td>0</td>\n",
       "      <td>0</td>\n",
       "      <td>0</td>\n",
       "      <td>0</td>\n",
       "      <td>0</td>\n",
       "      <td>0</td>\n",
       "      <td>1</td>\n",
       "      <td>23</td>\n",
       "      <td>0</td>\n",
       "      <td>0</td>\n",
       "      <td>0</td>\n",
       "      <td>0</td>\n",
       "      <td>0</td>\n",
       "      <td>1</td>\n",
       "    </tr>\n",
       "    <tr>\n",
       "      <th>1</th>\n",
       "      <td>9123657259</td>\n",
       "      <td>17100000.0</td>\n",
       "      <td>0</td>\n",
       "      <td>0</td>\n",
       "      <td>0</td>\n",
       "      <td>0</td>\n",
       "      <td>0</td>\n",
       "      <td>0</td>\n",
       "      <td>0</td>\n",
       "      <td>0</td>\n",
       "      <td>1</td>\n",
       "      <td>23</td>\n",
       "      <td>0</td>\n",
       "      <td>0</td>\n",
       "      <td>0</td>\n",
       "      <td>0</td>\n",
       "      <td>0</td>\n",
       "      <td>1</td>\n",
       "    </tr>\n",
       "    <tr>\n",
       "      <th>2</th>\n",
       "      <td>9127962154</td>\n",
       "      <td>9700000.0</td>\n",
       "      <td>0</td>\n",
       "      <td>0</td>\n",
       "      <td>0</td>\n",
       "      <td>0</td>\n",
       "      <td>0</td>\n",
       "      <td>0</td>\n",
       "      <td>0</td>\n",
       "      <td>0</td>\n",
       "      <td>1</td>\n",
       "      <td>23</td>\n",
       "      <td>0</td>\n",
       "      <td>0</td>\n",
       "      <td>0</td>\n",
       "      <td>0</td>\n",
       "      <td>0</td>\n",
       "      <td>1</td>\n",
       "    </tr>\n",
       "    <tr>\n",
       "      <th>3</th>\n",
       "      <td>9120519173</td>\n",
       "      <td>7500000.0</td>\n",
       "      <td>0</td>\n",
       "      <td>0</td>\n",
       "      <td>0</td>\n",
       "      <td>0</td>\n",
       "      <td>0</td>\n",
       "      <td>0</td>\n",
       "      <td>0</td>\n",
       "      <td>0</td>\n",
       "      <td>1</td>\n",
       "      <td>23</td>\n",
       "      <td>0</td>\n",
       "      <td>0</td>\n",
       "      <td>0</td>\n",
       "      <td>0</td>\n",
       "      <td>0</td>\n",
       "      <td>1</td>\n",
       "    </tr>\n",
       "    <tr>\n",
       "      <th>4</th>\n",
       "      <td>9123505263</td>\n",
       "      <td>25000000.0</td>\n",
       "      <td>0</td>\n",
       "      <td>0</td>\n",
       "      <td>0</td>\n",
       "      <td>0</td>\n",
       "      <td>0</td>\n",
       "      <td>0</td>\n",
       "      <td>0</td>\n",
       "      <td>0</td>\n",
       "      <td>1</td>\n",
       "      <td>23</td>\n",
       "      <td>0</td>\n",
       "      <td>0</td>\n",
       "      <td>0</td>\n",
       "      <td>0</td>\n",
       "      <td>0</td>\n",
       "      <td>1</td>\n",
       "    </tr>\n",
       "  </tbody>\n",
       "</table>\n",
       "</div>"
      ],
      "text/plain": [
       "  phone_number       price  status  city_0  city_1  city_2  city_3  city_4  \\\n",
       "0   9125943272  16600000.0       0       0       0       0       0       0   \n",
       "1   9123657259  17100000.0       0       0       0       0       0       0   \n",
       "2   9127962154   9700000.0       0       0       0       0       0       0   \n",
       "3   9120519173   7500000.0       0       0       0       0       0       0   \n",
       "4   9123505263  25000000.0       0       0       0       0       0       0   \n",
       "\n",
       "   city_5  city_6  city_7  time  area_code_0  area_code_1  area_code_2  \\\n",
       "0       0       0       1    23            0            0            0   \n",
       "1       0       0       1    23            0            0            0   \n",
       "2       0       0       1    23            0            0            0   \n",
       "3       0       0       1    23            0            0            0   \n",
       "4       0       0       1    23            0            0            0   \n",
       "\n",
       "   area_code_3  area_code_4  area_code_5  \n",
       "0            0            0            1  \n",
       "1            0            0            1  \n",
       "2            0            0            1  \n",
       "3            0            0            1  \n",
       "4            0            0            1  "
      ]
     },
     "execution_count": 85,
     "metadata": {},
     "output_type": "execute_result"
    }
   ],
   "source": [
    "df.head()"
   ]
  },
  {
   "cell_type": "markdown",
   "id": "d6f8e7fd-c064-4aad-8dbf-cd201d08aaf4",
   "metadata": {},
   "source": [
    "### 6.2 Extract features from `phone_number` column"
   ]
  },
  {
   "cell_type": "code",
   "execution_count": 86,
   "id": "5af45f27",
   "metadata": {},
   "outputs": [],
   "source": [
    "def chack_last_stair(num):\n",
    "    return (num[6] == num[8]) or (num[7] == num[9])\n",
    "\n",
    "def check_first_stair(num):\n",
    "    return (num[3] == num[5]) or (num[4] == num[6])\n",
    "\n",
    "def check_mirror_4_first(num):\n",
    "    return (num[3] == num[6]) and (num[4] == num[5])\n",
    "\n",
    "def check_mirror_4_last(num):\n",
    "    return (num[7] == num[8]) and (num[6] == num[9])\n",
    "\n",
    "def check_mirror_3(num):\n",
    "    return (num[3] == num[9]) and (num[4] == num[8]) and (num[5] == num[7])\n",
    "\n",
    "def rep_3_first_last(num):\n",
    "    return (num[3] == num[7]) and (num[4] == num[8]) and (num[5] == num[9])\n",
    "\n",
    "def ordered_first_3(num):\n",
    "    return (int(num[4]) - int(num[3]) == 1) and (int(num[5]) - int(num[4]) == 1)\n",
    "\n",
    "def ordered_last_3(num):\n",
    "    return (int(num[8]) - int(num[7]) == 1) and (int(num[9]) - int(num[8]) == 1)\n",
    "\n",
    "def two_couple_first(num):\n",
    "    return (num[3] == num[5]) and (num[4] == num[6])\n",
    "\n",
    "def two_couple_last(num):\n",
    "    return (num[6] == num[8]) and (num[7] == num[9])\n",
    "\n",
    "def three_couple_first(num):\n",
    "    return (num[3] == num[5] == num[7]) and (num[4] == num[6] == num[8])\n",
    "\n",
    "def three_couple_last(num):\n",
    "    return (num[4] == num[6] == num[8]) and (num[5] == num[7] == num[9])\n",
    "\n",
    "def mul_ten_first(num):\n",
    "    return (num[4] == \"0\") and (num[6] == \"0\")\n",
    "\n",
    "def mul_ten_last(num):\n",
    "    return (num[7] == \"0\") and (num[9] == \"0\")\n",
    "\n",
    "def mul_thousand_first(num):\n",
    "    return (num[4] == \"0\") and (num[5] == \"0\")\n",
    "\n",
    "def mul_thousand_last(num):\n",
    "    return (num[7] == \"0\") and (num[8] == \"0\")\n",
    "\n",
    "def mul_ten_thousand_first(num):\n",
    "    return (num[5] == \"0\") and (num[6] == \"0\") and (num[7] == \"0\")\n",
    "\n",
    "def mul_ten_thousand_last(num):\n",
    "    return (num[7] == \"0\") and (num[8] == \"0\") and (num[9] == \"0\")\n",
    "\n",
    "def million(num):\n",
    "    mil_index = num.find(\"00000\")\n",
    "    if mil_index == 4 or mil_index == 5:\n",
    "        return True\n",
    "    return False\n",
    "\n",
    "def three_rep_first(num):\n",
    "    return (num[3] == num[4]) and (num[4] == num[5])\n",
    "\n",
    "def three_rep_mid(num):\n",
    "    return (num[5] == num[6]) and (num[6] == num[7])\n",
    "\n",
    "def three_rep_last(num):\n",
    "    return (num[7] == num[8]) and (num[8] == num[9])\n",
    "\n",
    "\n",
    "def four_rep_first(num):\n",
    "    return (num[3] == num[4]) and (num[4] == num[5]) and (num[5] == num[6])\n",
    "\n",
    "def four_rep_mid(num):\n",
    "    return (num[4] == num[5]) and (num[5] == num[6]) and (num[6] == num[7])\n",
    "\n",
    "def four_rep_last(num):\n",
    "    return (num[6] == num[7]) and (num[7] == num[8]) and (num[8] == num[9])\n",
    "\n",
    "\n",
    "def five_rep_first(num):\n",
    "    return (num[3] == num[4]) and (num[4] == num[5]) and (num[5] == num[6]) and (num[6] == num[7])\n",
    "\n",
    "def five_rep_mid(num):\n",
    "    return (num[4] == num[5]) and (num[5] == num[6]) and (num[6] == num[7]) and (num[7] == num[8])\n",
    "\n",
    "def five_rep_last(num):\n",
    "    return (num[5] == num[6]) and (num[6] == num[7]) and (num[7] == num[8]) and (num[8] == num[9])\n",
    "\n",
    "def six_rep_first(num):\n",
    "    return (num[3] == num[4]) and (num[4] == num[5]) and (num[5] == num[6]) and (num[6] == num[7]) and (num[7] == num[8])\n",
    "\n",
    "def six_rep_last(num):\n",
    "    return (num[4] == num[5]) and (num[5] == num[6]) and (num[6] == num[7]) and (num[7] == num[8]) and (num[8] == num[9])\n",
    "\n",
    "def all_same(num):\n",
    "    return (num[3] == num[4]) and (num[4] == num[5]) and (num[5] == num[6]) and (num[6] == num[7]) and (num[7] == num[8]) and (num[8] == num[9])\n",
    "\n",
    "def two_digit(num):\n",
    "    return len(set(num[3:])) == 2\n",
    "\n",
    "def two_rep_first(num):\n",
    "    return (num[3] == num[4]) and (num[5] == num[6])\n",
    "\n",
    "def two_rep_last(num):\n",
    "    return (num[6] == num[7]) and (num[8] == num[9])\n",
    "\n",
    "def has_birthdate_first(num):\n",
    "    date = int(num[3:7])\n",
    "    return 1300 < date < 1400\n",
    "\n",
    "def has_birthdate_last(num):\n",
    "    date = int(num[6:])\n",
    "    return 1300 < date < 1400\n",
    "\n",
    "\n",
    "def has_area_code(num):\n",
    "    area_code = num[:3]\n",
    "    return num[3:].find(area_code) != -1 \n",
    "\n",
    "def extract_features(df):\n",
    "    features = [chack_last_stair , check_first_stair , check_mirror_4_first , check_mirror_4_last , check_mirror_3,\n",
    "                rep_3_first_last , ordered_first_3 , ordered_last_3 , two_couple_first , two_couple_last , three_couple_first,\n",
    "                three_couple_last , mul_ten_first , mul_ten_last , mul_thousand_first , mul_thousand_last,\n",
    "                mul_ten_thousand_first , mul_ten_thousand_last , million , three_rep_first , three_rep_mid , three_rep_last,\n",
    "                four_rep_first , four_rep_mid , four_rep_last , five_rep_first , five_rep_mid , five_rep_last,\n",
    "                six_rep_first , six_rep_last , all_same , two_digit , two_rep_first , two_rep_last , has_birthdate_first,\n",
    "                has_birthdate_last , has_area_code]\n",
    "    \n",
    "    for feature_func in features:\n",
    "        df[feature_func.__name__] = df.phone_number.apply(feature_func)\n",
    "        \n",
    "\n",
    "extract_features(df)"
   ]
  },
  {
   "cell_type": "code",
   "execution_count": 87,
   "id": "9d3dcbc8-ec7d-4a09-868c-60c53c7bbc0e",
   "metadata": {},
   "outputs": [
    {
     "data": {
      "text/html": [
       "<div>\n",
       "<style scoped>\n",
       "    .dataframe tbody tr th:only-of-type {\n",
       "        vertical-align: middle;\n",
       "    }\n",
       "\n",
       "    .dataframe tbody tr th {\n",
       "        vertical-align: top;\n",
       "    }\n",
       "\n",
       "    .dataframe thead th {\n",
       "        text-align: right;\n",
       "    }\n",
       "</style>\n",
       "<table border=\"1\" class=\"dataframe\">\n",
       "  <thead>\n",
       "    <tr style=\"text-align: right;\">\n",
       "      <th></th>\n",
       "      <th>phone_number</th>\n",
       "      <th>price</th>\n",
       "      <th>status</th>\n",
       "      <th>city_0</th>\n",
       "      <th>city_1</th>\n",
       "      <th>city_2</th>\n",
       "      <th>city_3</th>\n",
       "      <th>city_4</th>\n",
       "      <th>city_5</th>\n",
       "      <th>city_6</th>\n",
       "      <th>...</th>\n",
       "      <th>five_rep_last</th>\n",
       "      <th>six_rep_first</th>\n",
       "      <th>six_rep_last</th>\n",
       "      <th>all_same</th>\n",
       "      <th>two_digit</th>\n",
       "      <th>two_rep_first</th>\n",
       "      <th>two_rep_last</th>\n",
       "      <th>has_birthdate_first</th>\n",
       "      <th>has_birthdate_last</th>\n",
       "      <th>has_area_code</th>\n",
       "    </tr>\n",
       "  </thead>\n",
       "  <tbody>\n",
       "    <tr>\n",
       "      <th>0</th>\n",
       "      <td>9125943272</td>\n",
       "      <td>16600000.0</td>\n",
       "      <td>0</td>\n",
       "      <td>0</td>\n",
       "      <td>0</td>\n",
       "      <td>0</td>\n",
       "      <td>0</td>\n",
       "      <td>0</td>\n",
       "      <td>0</td>\n",
       "      <td>0</td>\n",
       "      <td>...</td>\n",
       "      <td>False</td>\n",
       "      <td>False</td>\n",
       "      <td>False</td>\n",
       "      <td>False</td>\n",
       "      <td>False</td>\n",
       "      <td>False</td>\n",
       "      <td>False</td>\n",
       "      <td>False</td>\n",
       "      <td>False</td>\n",
       "      <td>False</td>\n",
       "    </tr>\n",
       "    <tr>\n",
       "      <th>1</th>\n",
       "      <td>9123657259</td>\n",
       "      <td>17100000.0</td>\n",
       "      <td>0</td>\n",
       "      <td>0</td>\n",
       "      <td>0</td>\n",
       "      <td>0</td>\n",
       "      <td>0</td>\n",
       "      <td>0</td>\n",
       "      <td>0</td>\n",
       "      <td>0</td>\n",
       "      <td>...</td>\n",
       "      <td>False</td>\n",
       "      <td>False</td>\n",
       "      <td>False</td>\n",
       "      <td>False</td>\n",
       "      <td>False</td>\n",
       "      <td>False</td>\n",
       "      <td>False</td>\n",
       "      <td>False</td>\n",
       "      <td>False</td>\n",
       "      <td>False</td>\n",
       "    </tr>\n",
       "    <tr>\n",
       "      <th>2</th>\n",
       "      <td>9127962154</td>\n",
       "      <td>9700000.0</td>\n",
       "      <td>0</td>\n",
       "      <td>0</td>\n",
       "      <td>0</td>\n",
       "      <td>0</td>\n",
       "      <td>0</td>\n",
       "      <td>0</td>\n",
       "      <td>0</td>\n",
       "      <td>0</td>\n",
       "      <td>...</td>\n",
       "      <td>False</td>\n",
       "      <td>False</td>\n",
       "      <td>False</td>\n",
       "      <td>False</td>\n",
       "      <td>False</td>\n",
       "      <td>False</td>\n",
       "      <td>False</td>\n",
       "      <td>False</td>\n",
       "      <td>False</td>\n",
       "      <td>False</td>\n",
       "    </tr>\n",
       "    <tr>\n",
       "      <th>3</th>\n",
       "      <td>9120519173</td>\n",
       "      <td>7500000.0</td>\n",
       "      <td>0</td>\n",
       "      <td>0</td>\n",
       "      <td>0</td>\n",
       "      <td>0</td>\n",
       "      <td>0</td>\n",
       "      <td>0</td>\n",
       "      <td>0</td>\n",
       "      <td>0</td>\n",
       "      <td>...</td>\n",
       "      <td>False</td>\n",
       "      <td>False</td>\n",
       "      <td>False</td>\n",
       "      <td>False</td>\n",
       "      <td>False</td>\n",
       "      <td>False</td>\n",
       "      <td>False</td>\n",
       "      <td>False</td>\n",
       "      <td>False</td>\n",
       "      <td>False</td>\n",
       "    </tr>\n",
       "    <tr>\n",
       "      <th>4</th>\n",
       "      <td>9123505263</td>\n",
       "      <td>25000000.0</td>\n",
       "      <td>0</td>\n",
       "      <td>0</td>\n",
       "      <td>0</td>\n",
       "      <td>0</td>\n",
       "      <td>0</td>\n",
       "      <td>0</td>\n",
       "      <td>0</td>\n",
       "      <td>0</td>\n",
       "      <td>...</td>\n",
       "      <td>False</td>\n",
       "      <td>False</td>\n",
       "      <td>False</td>\n",
       "      <td>False</td>\n",
       "      <td>False</td>\n",
       "      <td>False</td>\n",
       "      <td>False</td>\n",
       "      <td>False</td>\n",
       "      <td>False</td>\n",
       "      <td>False</td>\n",
       "    </tr>\n",
       "  </tbody>\n",
       "</table>\n",
       "<p>5 rows × 55 columns</p>\n",
       "</div>"
      ],
      "text/plain": [
       "  phone_number       price  status  city_0  city_1  city_2  city_3  city_4  \\\n",
       "0   9125943272  16600000.0       0       0       0       0       0       0   \n",
       "1   9123657259  17100000.0       0       0       0       0       0       0   \n",
       "2   9127962154   9700000.0       0       0       0       0       0       0   \n",
       "3   9120519173   7500000.0       0       0       0       0       0       0   \n",
       "4   9123505263  25000000.0       0       0       0       0       0       0   \n",
       "\n",
       "   city_5  city_6  ...  five_rep_last  six_rep_first  six_rep_last  all_same  \\\n",
       "0       0       0  ...          False          False         False     False   \n",
       "1       0       0  ...          False          False         False     False   \n",
       "2       0       0  ...          False          False         False     False   \n",
       "3       0       0  ...          False          False         False     False   \n",
       "4       0       0  ...          False          False         False     False   \n",
       "\n",
       "   two_digit  two_rep_first  two_rep_last  has_birthdate_first  \\\n",
       "0      False          False         False                False   \n",
       "1      False          False         False                False   \n",
       "2      False          False         False                False   \n",
       "3      False          False         False                False   \n",
       "4      False          False         False                False   \n",
       "\n",
       "   has_birthdate_last  has_area_code  \n",
       "0               False          False  \n",
       "1               False          False  \n",
       "2               False          False  \n",
       "3               False          False  \n",
       "4               False          False  \n",
       "\n",
       "[5 rows x 55 columns]"
      ]
     },
     "execution_count": 87,
     "metadata": {},
     "output_type": "execute_result"
    }
   ],
   "source": [
    "df.head()"
   ]
  },
  {
   "cell_type": "code",
   "execution_count": 88,
   "id": "7102dc6e-335f-45d8-9739-a9b48a4cf3b8",
   "metadata": {},
   "outputs": [
    {
     "name": "stdout",
     "output_type": "stream",
     "text": [
      "<class 'pandas.core.frame.DataFrame'>\n",
      "Int64Index: 400988 entries, 0 to 623558\n",
      "Data columns (total 55 columns):\n",
      " #   Column                  Non-Null Count   Dtype  \n",
      "---  ------                  --------------   -----  \n",
      " 0   phone_number            400988 non-null  object \n",
      " 1   price                   400988 non-null  float64\n",
      " 2   status                  400988 non-null  int64  \n",
      " 3   city_0                  400988 non-null  int64  \n",
      " 4   city_1                  400988 non-null  int64  \n",
      " 5   city_2                  400988 non-null  int64  \n",
      " 6   city_3                  400988 non-null  int64  \n",
      " 7   city_4                  400988 non-null  int64  \n",
      " 8   city_5                  400988 non-null  int64  \n",
      " 9   city_6                  400988 non-null  int64  \n",
      " 10  city_7                  400988 non-null  int64  \n",
      " 11  time                    400988 non-null  int64  \n",
      " 12  area_code_0             400988 non-null  int64  \n",
      " 13  area_code_1             400988 non-null  int64  \n",
      " 14  area_code_2             400988 non-null  int64  \n",
      " 15  area_code_3             400988 non-null  int64  \n",
      " 16  area_code_4             400988 non-null  int64  \n",
      " 17  area_code_5             400988 non-null  int64  \n",
      " 18  chack_last_stair        400988 non-null  bool   \n",
      " 19  check_first_stair       400988 non-null  bool   \n",
      " 20  check_mirror_4_first    400988 non-null  bool   \n",
      " 21  check_mirror_4_last     400988 non-null  bool   \n",
      " 22  check_mirror_3          400988 non-null  bool   \n",
      " 23  rep_3_first_last        400988 non-null  bool   \n",
      " 24  ordered_first_3         400988 non-null  bool   \n",
      " 25  ordered_last_3          400988 non-null  bool   \n",
      " 26  two_couple_first        400988 non-null  bool   \n",
      " 27  two_couple_last         400988 non-null  bool   \n",
      " 28  three_couple_first      400988 non-null  bool   \n",
      " 29  three_couple_last       400988 non-null  bool   \n",
      " 30  mul_ten_first           400988 non-null  bool   \n",
      " 31  mul_ten_last            400988 non-null  bool   \n",
      " 32  mul_thousand_first      400988 non-null  bool   \n",
      " 33  mul_thousand_last       400988 non-null  bool   \n",
      " 34  mul_ten_thousand_first  400988 non-null  bool   \n",
      " 35  mul_ten_thousand_last   400988 non-null  bool   \n",
      " 36  million                 400988 non-null  bool   \n",
      " 37  three_rep_first         400988 non-null  bool   \n",
      " 38  three_rep_mid           400988 non-null  bool   \n",
      " 39  three_rep_last          400988 non-null  bool   \n",
      " 40  four_rep_first          400988 non-null  bool   \n",
      " 41  four_rep_mid            400988 non-null  bool   \n",
      " 42  four_rep_last           400988 non-null  bool   \n",
      " 43  five_rep_first          400988 non-null  bool   \n",
      " 44  five_rep_mid            400988 non-null  bool   \n",
      " 45  five_rep_last           400988 non-null  bool   \n",
      " 46  six_rep_first           400988 non-null  bool   \n",
      " 47  six_rep_last            400988 non-null  bool   \n",
      " 48  all_same                400988 non-null  bool   \n",
      " 49  two_digit               400988 non-null  bool   \n",
      " 50  two_rep_first           400988 non-null  bool   \n",
      " 51  two_rep_last            400988 non-null  bool   \n",
      " 52  has_birthdate_first     400988 non-null  bool   \n",
      " 53  has_birthdate_last      400988 non-null  bool   \n",
      " 54  has_area_code           400988 non-null  bool   \n",
      "dtypes: bool(37), float64(1), int64(16), object(1)\n",
      "memory usage: 72.3+ MB\n"
     ]
    }
   ],
   "source": [
    "df.info()"
   ]
  },
  {
   "cell_type": "markdown",
   "id": "bd4a5220-ea58-4582-b552-25eaa0a50920",
   "metadata": {},
   "source": [
    "### 6.3 To let model learn complex patterns in phone numbers we split each phone number into two groups `first_three` and `last_four`"
   ]
  },
  {
   "cell_type": "markdown",
   "id": "c2c18c27-e829-43aa-8ef6-3a51de0cb1c3",
   "metadata": {},
   "source": [
    "### 6.3.1 `first_three` columns"
   ]
  },
  {
   "cell_type": "code",
   "execution_count": 89,
   "id": "fc33f125-ad02-42fe-b5b4-ad035939c5f7",
   "metadata": {},
   "outputs": [],
   "source": [
    "first_three_0 = df.phone_number.apply(lambda phone: int(phone[3]))\n",
    "first_three_1 = df.phone_number.apply(lambda phone: int(phone[4]))\n",
    "first_three_2 = df.phone_number.apply(lambda phone: int(phone[5]))\n",
    "df['first_three_0'] = first_three_0\n",
    "df['first_three_1'] = first_three_1\n",
    "df['first_three_2'] = first_three_2"
   ]
  },
  {
   "cell_type": "markdown",
   "id": "d17f065b-a18e-41a8-99ce-c596a8530468",
   "metadata": {},
   "source": [
    "### 6.3.2 `last_four` columns"
   ]
  },
  {
   "cell_type": "code",
   "execution_count": 90,
   "id": "e2af1cac-e22f-4f14-8abf-0559b25d9ed9",
   "metadata": {},
   "outputs": [],
   "source": [
    "last_four_0 = df.phone_number.apply(lambda phone: int(phone[6]))\n",
    "last_four_1 = df.phone_number.apply(lambda phone: int(phone[7]))\n",
    "last_four_2 = df.phone_number.apply(lambda phone: int(phone[8]))\n",
    "last_four_3 = df.phone_number.apply(lambda phone: int(phone[9]))\n",
    "df['last_four_0'] = last_four_0\n",
    "df['last_four_1'] = last_four_1\n",
    "df['last_four_2'] = last_four_2\n",
    "df['last_four_3'] = last_four_3"
   ]
  },
  {
   "cell_type": "code",
   "execution_count": 91,
   "id": "77432525-aa5b-433e-a3a0-1859af022f31",
   "metadata": {},
   "outputs": [
    {
     "data": {
      "text/html": [
       "<div>\n",
       "<style scoped>\n",
       "    .dataframe tbody tr th:only-of-type {\n",
       "        vertical-align: middle;\n",
       "    }\n",
       "\n",
       "    .dataframe tbody tr th {\n",
       "        vertical-align: top;\n",
       "    }\n",
       "\n",
       "    .dataframe thead th {\n",
       "        text-align: right;\n",
       "    }\n",
       "</style>\n",
       "<table border=\"1\" class=\"dataframe\">\n",
       "  <thead>\n",
       "    <tr style=\"text-align: right;\">\n",
       "      <th></th>\n",
       "      <th>phone_number</th>\n",
       "      <th>price</th>\n",
       "      <th>status</th>\n",
       "      <th>city_0</th>\n",
       "      <th>city_1</th>\n",
       "      <th>city_2</th>\n",
       "      <th>city_3</th>\n",
       "      <th>city_4</th>\n",
       "      <th>city_5</th>\n",
       "      <th>city_6</th>\n",
       "      <th>...</th>\n",
       "      <th>has_birthdate_first</th>\n",
       "      <th>has_birthdate_last</th>\n",
       "      <th>has_area_code</th>\n",
       "      <th>first_three_0</th>\n",
       "      <th>first_three_1</th>\n",
       "      <th>first_three_2</th>\n",
       "      <th>last_four_0</th>\n",
       "      <th>last_four_1</th>\n",
       "      <th>last_four_2</th>\n",
       "      <th>last_four_3</th>\n",
       "    </tr>\n",
       "  </thead>\n",
       "  <tbody>\n",
       "    <tr>\n",
       "      <th>0</th>\n",
       "      <td>9125943272</td>\n",
       "      <td>16600000.0</td>\n",
       "      <td>0</td>\n",
       "      <td>0</td>\n",
       "      <td>0</td>\n",
       "      <td>0</td>\n",
       "      <td>0</td>\n",
       "      <td>0</td>\n",
       "      <td>0</td>\n",
       "      <td>0</td>\n",
       "      <td>...</td>\n",
       "      <td>False</td>\n",
       "      <td>False</td>\n",
       "      <td>False</td>\n",
       "      <td>5</td>\n",
       "      <td>9</td>\n",
       "      <td>4</td>\n",
       "      <td>3</td>\n",
       "      <td>2</td>\n",
       "      <td>7</td>\n",
       "      <td>2</td>\n",
       "    </tr>\n",
       "    <tr>\n",
       "      <th>1</th>\n",
       "      <td>9123657259</td>\n",
       "      <td>17100000.0</td>\n",
       "      <td>0</td>\n",
       "      <td>0</td>\n",
       "      <td>0</td>\n",
       "      <td>0</td>\n",
       "      <td>0</td>\n",
       "      <td>0</td>\n",
       "      <td>0</td>\n",
       "      <td>0</td>\n",
       "      <td>...</td>\n",
       "      <td>False</td>\n",
       "      <td>False</td>\n",
       "      <td>False</td>\n",
       "      <td>3</td>\n",
       "      <td>6</td>\n",
       "      <td>5</td>\n",
       "      <td>7</td>\n",
       "      <td>2</td>\n",
       "      <td>5</td>\n",
       "      <td>9</td>\n",
       "    </tr>\n",
       "    <tr>\n",
       "      <th>2</th>\n",
       "      <td>9127962154</td>\n",
       "      <td>9700000.0</td>\n",
       "      <td>0</td>\n",
       "      <td>0</td>\n",
       "      <td>0</td>\n",
       "      <td>0</td>\n",
       "      <td>0</td>\n",
       "      <td>0</td>\n",
       "      <td>0</td>\n",
       "      <td>0</td>\n",
       "      <td>...</td>\n",
       "      <td>False</td>\n",
       "      <td>False</td>\n",
       "      <td>False</td>\n",
       "      <td>7</td>\n",
       "      <td>9</td>\n",
       "      <td>6</td>\n",
       "      <td>2</td>\n",
       "      <td>1</td>\n",
       "      <td>5</td>\n",
       "      <td>4</td>\n",
       "    </tr>\n",
       "    <tr>\n",
       "      <th>3</th>\n",
       "      <td>9120519173</td>\n",
       "      <td>7500000.0</td>\n",
       "      <td>0</td>\n",
       "      <td>0</td>\n",
       "      <td>0</td>\n",
       "      <td>0</td>\n",
       "      <td>0</td>\n",
       "      <td>0</td>\n",
       "      <td>0</td>\n",
       "      <td>0</td>\n",
       "      <td>...</td>\n",
       "      <td>False</td>\n",
       "      <td>False</td>\n",
       "      <td>False</td>\n",
       "      <td>0</td>\n",
       "      <td>5</td>\n",
       "      <td>1</td>\n",
       "      <td>9</td>\n",
       "      <td>1</td>\n",
       "      <td>7</td>\n",
       "      <td>3</td>\n",
       "    </tr>\n",
       "    <tr>\n",
       "      <th>4</th>\n",
       "      <td>9123505263</td>\n",
       "      <td>25000000.0</td>\n",
       "      <td>0</td>\n",
       "      <td>0</td>\n",
       "      <td>0</td>\n",
       "      <td>0</td>\n",
       "      <td>0</td>\n",
       "      <td>0</td>\n",
       "      <td>0</td>\n",
       "      <td>0</td>\n",
       "      <td>...</td>\n",
       "      <td>False</td>\n",
       "      <td>False</td>\n",
       "      <td>False</td>\n",
       "      <td>3</td>\n",
       "      <td>5</td>\n",
       "      <td>0</td>\n",
       "      <td>5</td>\n",
       "      <td>2</td>\n",
       "      <td>6</td>\n",
       "      <td>3</td>\n",
       "    </tr>\n",
       "  </tbody>\n",
       "</table>\n",
       "<p>5 rows × 62 columns</p>\n",
       "</div>"
      ],
      "text/plain": [
       "  phone_number       price  status  city_0  city_1  city_2  city_3  city_4  \\\n",
       "0   9125943272  16600000.0       0       0       0       0       0       0   \n",
       "1   9123657259  17100000.0       0       0       0       0       0       0   \n",
       "2   9127962154   9700000.0       0       0       0       0       0       0   \n",
       "3   9120519173   7500000.0       0       0       0       0       0       0   \n",
       "4   9123505263  25000000.0       0       0       0       0       0       0   \n",
       "\n",
       "   city_5  city_6  ...  has_birthdate_first  has_birthdate_last  \\\n",
       "0       0       0  ...                False               False   \n",
       "1       0       0  ...                False               False   \n",
       "2       0       0  ...                False               False   \n",
       "3       0       0  ...                False               False   \n",
       "4       0       0  ...                False               False   \n",
       "\n",
       "   has_area_code  first_three_0  first_three_1  first_three_2  last_four_0  \\\n",
       "0          False              5              9              4            3   \n",
       "1          False              3              6              5            7   \n",
       "2          False              7              9              6            2   \n",
       "3          False              0              5              1            9   \n",
       "4          False              3              5              0            5   \n",
       "\n",
       "   last_four_1  last_four_2  last_four_3  \n",
       "0            2            7            2  \n",
       "1            2            5            9  \n",
       "2            1            5            4  \n",
       "3            1            7            3  \n",
       "4            2            6            3  \n",
       "\n",
       "[5 rows x 62 columns]"
      ]
     },
     "execution_count": 91,
     "metadata": {},
     "output_type": "execute_result"
    }
   ],
   "source": [
    "df.head()"
   ]
  },
  {
   "cell_type": "markdown",
   "id": "5a900ccd-973d-4221-a69a-28d5ede17498",
   "metadata": {},
   "source": [
    "## 7. Save the Pre Processed Dataset"
   ]
  },
  {
   "cell_type": "code",
   "execution_count": 92,
   "id": "fc580090-e6d9-4108-acf7-e2e994a591f3",
   "metadata": {},
   "outputs": [],
   "source": [
    "df.to_csv('../../DataSet/rond.ir_full_preprocessed.csv' , index=False)"
   ]
  },
  {
   "cell_type": "code",
   "execution_count": null,
   "id": "260b4d6a-7088-4ffe-8170-6195d55f531b",
   "metadata": {},
   "outputs": [],
   "source": []
  }
 ],
 "metadata": {
  "kernelspec": {
   "display_name": "Python 3.10.7 64-bit",
   "language": "python",
   "name": "python3"
  },
  "language_info": {
   "codemirror_mode": {
    "name": "ipython",
    "version": 3
   },
   "file_extension": ".py",
   "mimetype": "text/x-python",
   "name": "python",
   "nbconvert_exporter": "python",
   "pygments_lexer": "ipython3",
   "version": "3.10.7"
  },
  "vscode": {
   "interpreter": {
    "hash": "aee8b7b246df8f9039afb4144a1f6fd8d2ca17a180786b69acc140d282b71a49"
   }
  }
 },
 "nbformat": 4,
 "nbformat_minor": 5
}
